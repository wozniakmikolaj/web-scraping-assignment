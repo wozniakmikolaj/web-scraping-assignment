{
 "cells": [
  {
   "cell_type": "markdown",
   "metadata": {
    "id": "RVmgc9cMV9VE"
   },
   "source": [
    "## BI - web scraping assignment"
   ]
  },
  {
   "cell_type": "code",
   "execution_count": 1,
   "metadata": {
    "executionInfo": {
     "elapsed": 673,
     "status": "ok",
     "timestamp": 1619895916481,
     "user": {
      "displayName": "Mikołaj Woźniak",
      "photoUrl": "",
      "userId": "06812837771174806357"
     },
     "user_tz": -120
    },
    "id": "5CuZ-3iyV6sb"
   },
   "outputs": [],
   "source": [
    "import re\n",
    "import itertools\n",
    "from requests import get\n",
    "\n",
    "import pandas as pd\n",
    "from bs4 import BeautifulSoup \n",
    "\n",
    "#constants\n",
    "site_root = 'https://nabory.kprm.gov.pl'\n",
    "init_link = 'https://nabory.kprm.gov.pl/wyniki-naborow?AdResult%5BpagesCnt%5D=20&AdResult%5BisAdvancedMode%5D=&AdResult%5Bsort%5D=1&AdResult%5Bid%5D=&AdResult%5Bid_institution%5D=&AdResult%5Bid_institution_position%5D='\n",
    "\n",
    "headers = ({'User-Agent': 'Mozilla/5.0 (Windows NT 6.1) AppleWebKit/537.36 (KHTML, like Gecko) Chrome/41.0.2228.0 Safari/537.36'})"
   ]
  },
  {
   "cell_type": "markdown",
   "metadata": {
    "id": "l_57boQ8XR4V"
   },
   "source": [
    "Let's begin crawling the site; we'll also check if we get a response back."
   ]
  },
  {
   "cell_type": "code",
   "execution_count": 2,
   "metadata": {
    "colab": {
     "base_uri": "https://localhost:8080/"
    },
    "executionInfo": {
     "elapsed": 2515,
     "status": "ok",
     "timestamp": 1619895918334,
     "user": {
      "displayName": "Mikołaj Woźniak",
      "photoUrl": "",
      "userId": "06812837771174806357"
     },
     "user_tz": -120
    },
    "id": "V5Dt5pyMV7dG",
    "outputId": "ee1fc7fe-60af-4ea1-9fe7-5f6fcb3681a3"
   },
   "outputs": [
    {
     "name": "stdout",
     "output_type": "stream",
     "text": [
      "<Response [200]>\n"
     ]
    }
   ],
   "source": [
    "response = get(init_link, headers=headers)\n",
    "print(response)"
   ]
  },
  {
   "cell_type": "code",
   "execution_count": 3,
   "metadata": {
    "executionInfo": {
     "elapsed": 2509,
     "status": "ok",
     "timestamp": 1619895918335,
     "user": {
      "displayName": "Mikołaj Woźniak",
      "photoUrl": "",
      "userId": "06812837771174806357"
     },
     "user_tz": -120
    },
    "id": "JCxKFQ7fV7rZ"
   },
   "outputs": [],
   "source": [
    "html_soup = BeautifulSoup(response.text, 'html.parser')"
   ]
  },
  {
   "cell_type": "markdown",
   "metadata": {
    "id": "7RaA6nP_Y25Y"
   },
   "source": [
    "After checking out the HTML code, we found the container which held all the search results. Let's access a single row which would be equal to a single job posting."
   ]
  },
  {
   "cell_type": "code",
   "execution_count": 4,
   "metadata": {
    "colab": {
     "base_uri": "https://localhost:8080/"
    },
    "executionInfo": {
     "elapsed": 2826,
     "status": "ok",
     "timestamp": 1619895918658,
     "user": {
      "displayName": "Mikołaj Woźniak",
      "photoUrl": "",
      "userId": "06812837771174806357"
     },
     "user_tz": -120
    },
    "id": "mDi7gS1ceoH2",
    "outputId": "2f7376f7-b944-4286-f170-2fc5f0ae10ad"
   },
   "outputs": [
    {
     "data": {
      "text/plain": [
       "['https://nabory.kprm.gov.pl/wyniki-naborow/podkarpackie/rzeszow/sekretarz,77610',\n",
       " 'https://nabory.kprm.gov.pl/wyniki-naborow/lodzkie/skierniewice/starszy-referent,77455',\n",
       " 'https://nabory.kprm.gov.pl/wyniki-naborow/pomorskie/gdansk/specjalista,77472',\n",
       " 'https://nabory.kprm.gov.pl/wyniki-naborow/dolnoslaskie/lubin/referent,77398',\n",
       " 'https://nabory.kprm.gov.pl/wyniki-naborow/zachodniopomorskie/szczecin/referent,77418',\n",
       " 'https://nabory.kprm.gov.pl/wyniki-naborow/zachodniopomorskie/szczecin/referent,77425',\n",
       " 'https://nabory.kprm.gov.pl/wyniki-naborow/warminsko-mazurskie/wegorzewo/inspektor-weterynaryjny,77315',\n",
       " 'https://nabory.kprm.gov.pl/wyniki-naborow/mazowieckie/warszawa/inspektor,77264',\n",
       " 'https://nabory.kprm.gov.pl/wyniki-naborow/mazowieckie/warszawa/glowny-specjalista,77265',\n",
       " 'https://nabory.kprm.gov.pl/wyniki-naborow/dolnoslaskie/wroclaw/samodzielny-referent,77281',\n",
       " 'https://nabory.kprm.gov.pl/wyniki-naborow/podkarpackie/strzyzow/oskarzyciel-skarbowy,77209',\n",
       " 'https://nabory.kprm.gov.pl/wyniki-naborow/mazowieckie/warszawa/glowny-specjalista,77228',\n",
       " 'https://nabory.kprm.gov.pl/wyniki-naborow/podlaskie/bialystok/starszy-inspektor,77128',\n",
       " 'https://nabory.kprm.gov.pl/wyniki-naborow/lodzkie/glowno/referent,77139',\n",
       " 'https://nabory.kprm.gov.pl/wyniki-naborow/kujawsko-pomorskie/golub-dobrzyn/inspektor,77149',\n",
       " 'https://nabory.kprm.gov.pl/wyniki-naborow/mazowieckie/siedlce/inspektor-weterynaryjny,77060',\n",
       " 'https://nabory.kprm.gov.pl/wyniki-naborow/kujawsko-pomorskie/grudziadz/inspektor-weterynaryjny,77077',\n",
       " 'https://nabory.kprm.gov.pl/wyniki-naborow/warminsko-mazurskie/ostroda/starszy-referent,77085',\n",
       " 'https://nabory.kprm.gov.pl/wyniki-naborow/warminsko-mazurskie/ostroda/kierownik-kancelarii-tajnej,77089',\n",
       " 'https://nabory.kprm.gov.pl/wyniki-naborow/mazowieckie/warszawa/starszy-specjalista,76979']"
      ]
     },
     "execution_count": 4,
     "metadata": {
      "tags": []
     },
     "output_type": "execute_result"
    }
   ],
   "source": [
    "pattern = r'(?<=href=\")\\s*(.*)\\s*(?=\">)'\n",
    "all_search_results = html_soup.find_all('li', class_='row')\n",
    "search_results_links = []\n",
    "\n",
    "for result in all_search_results:\n",
    "    job_posting_link = re.search(pattern, str(result), re.IGNORECASE).group(1)\n",
    "    full_link = site_root + job_posting_link\n",
    "    search_results_links.append(full_link)\n",
    "\n",
    "search_results_links"
   ]
  },
  {
   "cell_type": "markdown",
   "metadata": {
    "id": "Sms0wYzvIP7u"
   },
   "source": [
    "Let's scrap the data using regexes and create a dictionary with each key corresponding to a single row."
   ]
  },
  {
   "cell_type": "code",
   "execution_count": 5,
   "metadata": {
    "executionInfo": {
     "elapsed": 12126,
     "status": "ok",
     "timestamp": 1619895932723,
     "user": {
      "displayName": "Mikołaj Woźniak",
      "photoUrl": "",
      "userId": "06812837771174806357"
     },
     "user_tz": -120
    },
    "id": "CTgYUlJAgtNc"
   },
   "outputs": [],
   "source": [
    "patterns = {\"numer\": r'(?<=<span class=\"id\">nr )\\s*(\\d*)', \n",
    "            \"stanowisko\": r'(?<=<h1 class=\"h1\">)\\s*(.*)\\s*(?=</h1)', \n",
    "            \"pracodawca\": r'(?<=<strong class=\"h\">Nazwa urzędu</strong>\\n<p>)\\s*(.*)\\s*(?=</p>)', \n",
    "            \"miejsce\":  r'(?<=<p>[0-9]{2}-[0-9]{3})\\s*(.*)\\s*(?=</p)',\n",
    "            \"data_publikacji\": r'(?<=Wprowadzono: <span>)\\s*(.*)\\s*(?=</span>)',\n",
    "            \"data_ogloszenia\": r'(?<=<strong class=\"h\">Data ogłoszenia</strong>\\n<div class=\"box bor\">\\n<strong>)\\s*(.*)\\s*(?=</strong>)',  \n",
    "            \"data_wyniku\": r'(?<=<strong class=\"h\">Data wyniku</strong>\\n<div class=\"box bor\">\\n<strong>)\\s*(.*)\\s*(?=</strong>)', \n",
    "            \"status\": r'(?<=<strong class=\"c\"><span>)\\s*(.*)\\s*(?=</span></strong>)',  \n",
    "            \"link_ogloszenia\": r'(?<=<a class=\"btn btn-b\" href=\")\\s*(.*)\\s*(?=\">)'\n",
    "            }\n",
    "\n",
    "dict_data = {}\n",
    "\n",
    "for index, link in enumerate(search_results_links):\n",
    "    response = get(link, headers=headers)\n",
    "    single_page = BeautifulSoup(response.text, 'html.parser')\n",
    "    single_record = []\n",
    "    for key, value in patterns.items():\n",
    "        single_record.append(re.search(value, str(single_page), re.IGNORECASE).group(1))\n",
    "  \n",
    "    dict_data.update({index: single_record})"
   ]
  },
  {
   "cell_type": "markdown",
   "metadata": {
    "id": "W7dKrmyPUYk8"
   },
   "source": [
    "Let's create and transform our dataframe to the desired format."
   ]
  },
  {
   "cell_type": "code",
   "execution_count": 6,
   "metadata": {
    "executionInfo": {
     "elapsed": 8898,
     "status": "ok",
     "timestamp": 1619895932726,
     "user": {
      "displayName": "Mikołaj Woźniak",
      "photoUrl": "",
      "userId": "06812837771174806357"
     },
     "user_tz": -120
    },
    "id": "vsxfJUK3KDVo"
   },
   "outputs": [],
   "source": [
    "job_offers_df = pd.DataFrame.from_dict(dict_data, orient='index', columns=list(patterns.keys()))\n",
    "job_offers_df.insert(8, \"link_wynik\", search_results_links)\n",
    "\n",
    "job_offers_df[\"status\"] = job_offers_df[\"status\"].str.replace(\"<br/>\", \" \")\n",
    "\n",
    "job_offers_df[\"link_ogloszenia\"] = [site_root for i in range(job_offers_df.shape[0])] + job_offers_df[\"link_ogloszenia\"]\n",
    "job_offers_df[\"data_ogloszenia\"] = job_offers_df[\"data_ogloszenia\"] + ['.04.2021' for i in range(job_offers_df.shape[0])]\n",
    "job_offers_df[\"data_wyniku\"] = job_offers_df[\"data_wyniku\"] + ['.04.2021' for i in range(job_offers_df.shape[0])]\n"
   ]
  },
  {
   "cell_type": "code",
   "execution_count": 7,
   "metadata": {
    "colab": {
     "base_uri": "https://localhost:8080/",
     "height": 142
    },
    "executionInfo": {
     "elapsed": 8449,
     "status": "ok",
     "timestamp": 1619895932728,
     "user": {
      "displayName": "Mikołaj Woźniak",
      "photoUrl": "",
      "userId": "06812837771174806357"
     },
     "user_tz": -120
    },
    "id": "3UaC-X14KDTO",
    "outputId": "02b04f32-f4ed-4547-9f5d-0524f3b8f0ce"
   },
   "outputs": [
    {
     "data": {
      "text/html": [
       "<div>\n",
       "<style scoped>\n",
       "    .dataframe tbody tr th:only-of-type {\n",
       "        vertical-align: middle;\n",
       "    }\n",
       "\n",
       "    .dataframe tbody tr th {\n",
       "        vertical-align: top;\n",
       "    }\n",
       "\n",
       "    .dataframe thead th {\n",
       "        text-align: right;\n",
       "    }\n",
       "</style>\n",
       "<table border=\"1\" class=\"dataframe\">\n",
       "  <thead>\n",
       "    <tr style=\"text-align: right;\">\n",
       "      <th></th>\n",
       "      <th>numer</th>\n",
       "      <th>stanowisko</th>\n",
       "      <th>pracodawca</th>\n",
       "      <th>miejsce</th>\n",
       "      <th>data_publikacji</th>\n",
       "      <th>data_ogloszenia</th>\n",
       "      <th>data_wyniku</th>\n",
       "      <th>status</th>\n",
       "      <th>link_wynik</th>\n",
       "      <th>link_ogloszenia</th>\n",
       "    </tr>\n",
       "  </thead>\n",
       "  <tbody>\n",
       "    <tr>\n",
       "      <th>0</th>\n",
       "      <td>77610</td>\n",
       "      <td>sekretarz</td>\n",
       "      <td>Wojewódzki Inspektorat Inspekcji Handlowej w R...</td>\n",
       "      <td>Rzeszów</td>\n",
       "      <td>28.04.2021</td>\n",
       "      <td>28.04.2021</td>\n",
       "      <td>28.04.2021</td>\n",
       "      <td>koniec naboru</td>\n",
       "      <td>https://nabory.kprm.gov.pl/wyniki-naborow/podk...</td>\n",
       "      <td>https://nabory.kprm.gov.pl/podkarpackie/rzeszo...</td>\n",
       "    </tr>\n",
       "    <tr>\n",
       "      <th>1</th>\n",
       "      <td>77455</td>\n",
       "      <td>starszy referent</td>\n",
       "      <td>Izba Administracji Skarbowej w Łodzi</td>\n",
       "      <td>Łódź</td>\n",
       "      <td>26.04.2021</td>\n",
       "      <td>26.04.2021</td>\n",
       "      <td>26.04.2021</td>\n",
       "      <td>koniec naboru</td>\n",
       "      <td>https://nabory.kprm.gov.pl/wyniki-naborow/lodz...</td>\n",
       "      <td>https://nabory.kprm.gov.pl/lodzkie/skierniewic...</td>\n",
       "    </tr>\n",
       "    <tr>\n",
       "      <th>2</th>\n",
       "      <td>77472</td>\n",
       "      <td>specjalista</td>\n",
       "      <td>Komenda Wojewódzka Policji w Gdańsku</td>\n",
       "      <td>Gdańsk</td>\n",
       "      <td>24.04.2021</td>\n",
       "      <td>24.04.2021</td>\n",
       "      <td>24.04.2021</td>\n",
       "      <td>koniec naboru</td>\n",
       "      <td>https://nabory.kprm.gov.pl/wyniki-naborow/pomo...</td>\n",
       "      <td>https://nabory.kprm.gov.pl/pomorskie/gdansk/sp...</td>\n",
       "    </tr>\n",
       "  </tbody>\n",
       "</table>\n",
       "</div>"
      ],
      "text/plain": [
       "   numer  ...                                    link_ogloszenia\n",
       "0  77610  ...  https://nabory.kprm.gov.pl/podkarpackie/rzeszo...\n",
       "1  77455  ...  https://nabory.kprm.gov.pl/lodzkie/skierniewic...\n",
       "2  77472  ...  https://nabory.kprm.gov.pl/pomorskie/gdansk/sp...\n",
       "\n",
       "[3 rows x 10 columns]"
      ]
     },
     "execution_count": 7,
     "metadata": {
      "tags": []
     },
     "output_type": "execute_result"
    }
   ],
   "source": [
    "job_offers_df.head(3)"
   ]
  }
 ],
 "metadata": {
  "colab": {
   "authorship_tag": "ABX9TyOBlEMqDX+N8nR1z6Bcclg9",
   "collapsed_sections": [],
   "name": "BI - data scraping.ipynb",
   "provenance": []
  },
  "kernelspec": {
   "display_name": "Python 3",
   "language": "python",
   "name": "python3"
  },
  "language_info": {
   "codemirror_mode": {
    "name": "ipython",
    "version": 3
   },
   "file_extension": ".py",
   "mimetype": "text/x-python",
   "name": "python",
   "nbconvert_exporter": "python",
   "pygments_lexer": "ipython3",
   "version": "3.8.6"
  }
 },
 "nbformat": 4,
 "nbformat_minor": 1
}
